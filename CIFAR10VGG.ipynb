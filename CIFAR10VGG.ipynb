{
  "nbformat": 4,
  "nbformat_minor": 0,
  "metadata": {
    "colab": {
      "provenance": [],
      "authorship_tag": "ABX9TyPUEMN7IMn7/4hzyrF6gLNO",
      "include_colab_link": true
    },
    "kernelspec": {
      "name": "python3",
      "display_name": "Python 3"
    },
    "language_info": {
      "name": "python"
    },
    "accelerator": "GPU",
    "gpuClass": "standard",
    "widgets": {
      "application/vnd.jupyter.widget-state+json": {
        "1d532c38ffd84e298f25ef8174b7893d": {
          "model_module": "@jupyter-widgets/controls",
          "model_name": "HBoxModel",
          "model_module_version": "1.5.0",
          "state": {
            "_dom_classes": [],
            "_model_module": "@jupyter-widgets/controls",
            "_model_module_version": "1.5.0",
            "_model_name": "HBoxModel",
            "_view_count": null,
            "_view_module": "@jupyter-widgets/controls",
            "_view_module_version": "1.5.0",
            "_view_name": "HBoxView",
            "box_style": "",
            "children": [
              "IPY_MODEL_be90f81b15c34b35806a3873dbc3c02e",
              "IPY_MODEL_041b39dec08c4a418b76b5e9f945c12a",
              "IPY_MODEL_6294b14f79224717b7fd1eb1229be803"
            ],
            "layout": "IPY_MODEL_d89ceeb29a374e548ffedf56c52b2bfc"
          }
        },
        "be90f81b15c34b35806a3873dbc3c02e": {
          "model_module": "@jupyter-widgets/controls",
          "model_name": "HTMLModel",
          "model_module_version": "1.5.0",
          "state": {
            "_dom_classes": [],
            "_model_module": "@jupyter-widgets/controls",
            "_model_module_version": "1.5.0",
            "_model_name": "HTMLModel",
            "_view_count": null,
            "_view_module": "@jupyter-widgets/controls",
            "_view_module_version": "1.5.0",
            "_view_name": "HTMLView",
            "description": "",
            "description_tooltip": null,
            "layout": "IPY_MODEL_349c89df88384ceaa24d91250859de2a",
            "placeholder": "​",
            "style": "IPY_MODEL_01ade617fb804c2288e49e5b9732dcfa",
            "value": "100%"
          }
        },
        "041b39dec08c4a418b76b5e9f945c12a": {
          "model_module": "@jupyter-widgets/controls",
          "model_name": "FloatProgressModel",
          "model_module_version": "1.5.0",
          "state": {
            "_dom_classes": [],
            "_model_module": "@jupyter-widgets/controls",
            "_model_module_version": "1.5.0",
            "_model_name": "FloatProgressModel",
            "_view_count": null,
            "_view_module": "@jupyter-widgets/controls",
            "_view_module_version": "1.5.0",
            "_view_name": "ProgressView",
            "bar_style": "success",
            "description": "",
            "description_tooltip": null,
            "layout": "IPY_MODEL_9ad5b69258d447ada6fb5dd1502ce2ab",
            "max": 3,
            "min": 0,
            "orientation": "horizontal",
            "style": "IPY_MODEL_4b5b381d72ee41858c27ccc4388245a2",
            "value": 3
          }
        },
        "6294b14f79224717b7fd1eb1229be803": {
          "model_module": "@jupyter-widgets/controls",
          "model_name": "HTMLModel",
          "model_module_version": "1.5.0",
          "state": {
            "_dom_classes": [],
            "_model_module": "@jupyter-widgets/controls",
            "_model_module_version": "1.5.0",
            "_model_name": "HTMLModel",
            "_view_count": null,
            "_view_module": "@jupyter-widgets/controls",
            "_view_module_version": "1.5.0",
            "_view_name": "HTMLView",
            "description": "",
            "description_tooltip": null,
            "layout": "IPY_MODEL_09931210e5d74682964ba8bd2d3f8355",
            "placeholder": "​",
            "style": "IPY_MODEL_11ae2e9e2b1e4fbc8fc0f34b7337b724",
            "value": " 3/3 [00:34&lt;00:00, 11.36s/it]"
          }
        },
        "d89ceeb29a374e548ffedf56c52b2bfc": {
          "model_module": "@jupyter-widgets/base",
          "model_name": "LayoutModel",
          "model_module_version": "1.2.0",
          "state": {
            "_model_module": "@jupyter-widgets/base",
            "_model_module_version": "1.2.0",
            "_model_name": "LayoutModel",
            "_view_count": null,
            "_view_module": "@jupyter-widgets/base",
            "_view_module_version": "1.2.0",
            "_view_name": "LayoutView",
            "align_content": null,
            "align_items": null,
            "align_self": null,
            "border": null,
            "bottom": null,
            "display": null,
            "flex": null,
            "flex_flow": null,
            "grid_area": null,
            "grid_auto_columns": null,
            "grid_auto_flow": null,
            "grid_auto_rows": null,
            "grid_column": null,
            "grid_gap": null,
            "grid_row": null,
            "grid_template_areas": null,
            "grid_template_columns": null,
            "grid_template_rows": null,
            "height": null,
            "justify_content": null,
            "justify_items": null,
            "left": null,
            "margin": null,
            "max_height": null,
            "max_width": null,
            "min_height": null,
            "min_width": null,
            "object_fit": null,
            "object_position": null,
            "order": null,
            "overflow": null,
            "overflow_x": null,
            "overflow_y": null,
            "padding": null,
            "right": null,
            "top": null,
            "visibility": null,
            "width": null
          }
        },
        "349c89df88384ceaa24d91250859de2a": {
          "model_module": "@jupyter-widgets/base",
          "model_name": "LayoutModel",
          "model_module_version": "1.2.0",
          "state": {
            "_model_module": "@jupyter-widgets/base",
            "_model_module_version": "1.2.0",
            "_model_name": "LayoutModel",
            "_view_count": null,
            "_view_module": "@jupyter-widgets/base",
            "_view_module_version": "1.2.0",
            "_view_name": "LayoutView",
            "align_content": null,
            "align_items": null,
            "align_self": null,
            "border": null,
            "bottom": null,
            "display": null,
            "flex": null,
            "flex_flow": null,
            "grid_area": null,
            "grid_auto_columns": null,
            "grid_auto_flow": null,
            "grid_auto_rows": null,
            "grid_column": null,
            "grid_gap": null,
            "grid_row": null,
            "grid_template_areas": null,
            "grid_template_columns": null,
            "grid_template_rows": null,
            "height": null,
            "justify_content": null,
            "justify_items": null,
            "left": null,
            "margin": null,
            "max_height": null,
            "max_width": null,
            "min_height": null,
            "min_width": null,
            "object_fit": null,
            "object_position": null,
            "order": null,
            "overflow": null,
            "overflow_x": null,
            "overflow_y": null,
            "padding": null,
            "right": null,
            "top": null,
            "visibility": null,
            "width": null
          }
        },
        "01ade617fb804c2288e49e5b9732dcfa": {
          "model_module": "@jupyter-widgets/controls",
          "model_name": "DescriptionStyleModel",
          "model_module_version": "1.5.0",
          "state": {
            "_model_module": "@jupyter-widgets/controls",
            "_model_module_version": "1.5.0",
            "_model_name": "DescriptionStyleModel",
            "_view_count": null,
            "_view_module": "@jupyter-widgets/base",
            "_view_module_version": "1.2.0",
            "_view_name": "StyleView",
            "description_width": ""
          }
        },
        "9ad5b69258d447ada6fb5dd1502ce2ab": {
          "model_module": "@jupyter-widgets/base",
          "model_name": "LayoutModel",
          "model_module_version": "1.2.0",
          "state": {
            "_model_module": "@jupyter-widgets/base",
            "_model_module_version": "1.2.0",
            "_model_name": "LayoutModel",
            "_view_count": null,
            "_view_module": "@jupyter-widgets/base",
            "_view_module_version": "1.2.0",
            "_view_name": "LayoutView",
            "align_content": null,
            "align_items": null,
            "align_self": null,
            "border": null,
            "bottom": null,
            "display": null,
            "flex": null,
            "flex_flow": null,
            "grid_area": null,
            "grid_auto_columns": null,
            "grid_auto_flow": null,
            "grid_auto_rows": null,
            "grid_column": null,
            "grid_gap": null,
            "grid_row": null,
            "grid_template_areas": null,
            "grid_template_columns": null,
            "grid_template_rows": null,
            "height": null,
            "justify_content": null,
            "justify_items": null,
            "left": null,
            "margin": null,
            "max_height": null,
            "max_width": null,
            "min_height": null,
            "min_width": null,
            "object_fit": null,
            "object_position": null,
            "order": null,
            "overflow": null,
            "overflow_x": null,
            "overflow_y": null,
            "padding": null,
            "right": null,
            "top": null,
            "visibility": null,
            "width": null
          }
        },
        "4b5b381d72ee41858c27ccc4388245a2": {
          "model_module": "@jupyter-widgets/controls",
          "model_name": "ProgressStyleModel",
          "model_module_version": "1.5.0",
          "state": {
            "_model_module": "@jupyter-widgets/controls",
            "_model_module_version": "1.5.0",
            "_model_name": "ProgressStyleModel",
            "_view_count": null,
            "_view_module": "@jupyter-widgets/base",
            "_view_module_version": "1.2.0",
            "_view_name": "StyleView",
            "bar_color": null,
            "description_width": ""
          }
        },
        "09931210e5d74682964ba8bd2d3f8355": {
          "model_module": "@jupyter-widgets/base",
          "model_name": "LayoutModel",
          "model_module_version": "1.2.0",
          "state": {
            "_model_module": "@jupyter-widgets/base",
            "_model_module_version": "1.2.0",
            "_model_name": "LayoutModel",
            "_view_count": null,
            "_view_module": "@jupyter-widgets/base",
            "_view_module_version": "1.2.0",
            "_view_name": "LayoutView",
            "align_content": null,
            "align_items": null,
            "align_self": null,
            "border": null,
            "bottom": null,
            "display": null,
            "flex": null,
            "flex_flow": null,
            "grid_area": null,
            "grid_auto_columns": null,
            "grid_auto_flow": null,
            "grid_auto_rows": null,
            "grid_column": null,
            "grid_gap": null,
            "grid_row": null,
            "grid_template_areas": null,
            "grid_template_columns": null,
            "grid_template_rows": null,
            "height": null,
            "justify_content": null,
            "justify_items": null,
            "left": null,
            "margin": null,
            "max_height": null,
            "max_width": null,
            "min_height": null,
            "min_width": null,
            "object_fit": null,
            "object_position": null,
            "order": null,
            "overflow": null,
            "overflow_x": null,
            "overflow_y": null,
            "padding": null,
            "right": null,
            "top": null,
            "visibility": null,
            "width": null
          }
        },
        "11ae2e9e2b1e4fbc8fc0f34b7337b724": {
          "model_module": "@jupyter-widgets/controls",
          "model_name": "DescriptionStyleModel",
          "model_module_version": "1.5.0",
          "state": {
            "_model_module": "@jupyter-widgets/controls",
            "_model_module_version": "1.5.0",
            "_model_name": "DescriptionStyleModel",
            "_view_count": null,
            "_view_module": "@jupyter-widgets/base",
            "_view_module_version": "1.2.0",
            "_view_name": "StyleView",
            "description_width": ""
          }
        },
        "174a0e9ec7554c21a41db6aaf4a9eeb2": {
          "model_module": "@jupyter-widgets/controls",
          "model_name": "HBoxModel",
          "model_module_version": "1.5.0",
          "state": {
            "_dom_classes": [],
            "_model_module": "@jupyter-widgets/controls",
            "_model_module_version": "1.5.0",
            "_model_name": "HBoxModel",
            "_view_count": null,
            "_view_module": "@jupyter-widgets/controls",
            "_view_module_version": "1.5.0",
            "_view_name": "HBoxView",
            "box_style": "",
            "children": [
              "IPY_MODEL_99f58584979b4e7090b4bf5427a4f03c",
              "IPY_MODEL_7f961feac33c4d95af458707d00f7339",
              "IPY_MODEL_b83337920ed04157b0682f0837eb0759"
            ],
            "layout": "IPY_MODEL_825b78382b9e4364b57cd5d771b2d073"
          }
        },
        "99f58584979b4e7090b4bf5427a4f03c": {
          "model_module": "@jupyter-widgets/controls",
          "model_name": "HTMLModel",
          "model_module_version": "1.5.0",
          "state": {
            "_dom_classes": [],
            "_model_module": "@jupyter-widgets/controls",
            "_model_module_version": "1.5.0",
            "_model_name": "HTMLModel",
            "_view_count": null,
            "_view_module": "@jupyter-widgets/controls",
            "_view_module_version": "1.5.0",
            "_view_name": "HTMLView",
            "description": "",
            "description_tooltip": null,
            "layout": "IPY_MODEL_b0f0c721cb484801a89667335dd96fe5",
            "placeholder": "​",
            "style": "IPY_MODEL_dd3c3a36217248c7810fa8a99cb8e6c4",
            "value": "100%"
          }
        },
        "7f961feac33c4d95af458707d00f7339": {
          "model_module": "@jupyter-widgets/controls",
          "model_name": "FloatProgressModel",
          "model_module_version": "1.5.0",
          "state": {
            "_dom_classes": [],
            "_model_module": "@jupyter-widgets/controls",
            "_model_module_version": "1.5.0",
            "_model_name": "FloatProgressModel",
            "_view_count": null,
            "_view_module": "@jupyter-widgets/controls",
            "_view_module_version": "1.5.0",
            "_view_name": "ProgressView",
            "bar_style": "success",
            "description": "",
            "description_tooltip": null,
            "layout": "IPY_MODEL_49155b7acf384f9ebf3007f96613705e",
            "max": 5,
            "min": 0,
            "orientation": "horizontal",
            "style": "IPY_MODEL_2b116ab0188448ada9262d194178d818",
            "value": 5
          }
        },
        "b83337920ed04157b0682f0837eb0759": {
          "model_module": "@jupyter-widgets/controls",
          "model_name": "HTMLModel",
          "model_module_version": "1.5.0",
          "state": {
            "_dom_classes": [],
            "_model_module": "@jupyter-widgets/controls",
            "_model_module_version": "1.5.0",
            "_model_name": "HTMLModel",
            "_view_count": null,
            "_view_module": "@jupyter-widgets/controls",
            "_view_module_version": "1.5.0",
            "_view_name": "HTMLView",
            "description": "",
            "description_tooltip": null,
            "layout": "IPY_MODEL_34ae938721664f28bfbf977664f28557",
            "placeholder": "​",
            "style": "IPY_MODEL_a89488cfd3434dffaaf47b78a2501b36",
            "value": " 5/5 [01:10&lt;00:00, 14.14s/it]"
          }
        },
        "825b78382b9e4364b57cd5d771b2d073": {
          "model_module": "@jupyter-widgets/base",
          "model_name": "LayoutModel",
          "model_module_version": "1.2.0",
          "state": {
            "_model_module": "@jupyter-widgets/base",
            "_model_module_version": "1.2.0",
            "_model_name": "LayoutModel",
            "_view_count": null,
            "_view_module": "@jupyter-widgets/base",
            "_view_module_version": "1.2.0",
            "_view_name": "LayoutView",
            "align_content": null,
            "align_items": null,
            "align_self": null,
            "border": null,
            "bottom": null,
            "display": null,
            "flex": null,
            "flex_flow": null,
            "grid_area": null,
            "grid_auto_columns": null,
            "grid_auto_flow": null,
            "grid_auto_rows": null,
            "grid_column": null,
            "grid_gap": null,
            "grid_row": null,
            "grid_template_areas": null,
            "grid_template_columns": null,
            "grid_template_rows": null,
            "height": null,
            "justify_content": null,
            "justify_items": null,
            "left": null,
            "margin": null,
            "max_height": null,
            "max_width": null,
            "min_height": null,
            "min_width": null,
            "object_fit": null,
            "object_position": null,
            "order": null,
            "overflow": null,
            "overflow_x": null,
            "overflow_y": null,
            "padding": null,
            "right": null,
            "top": null,
            "visibility": null,
            "width": null
          }
        },
        "b0f0c721cb484801a89667335dd96fe5": {
          "model_module": "@jupyter-widgets/base",
          "model_name": "LayoutModel",
          "model_module_version": "1.2.0",
          "state": {
            "_model_module": "@jupyter-widgets/base",
            "_model_module_version": "1.2.0",
            "_model_name": "LayoutModel",
            "_view_count": null,
            "_view_module": "@jupyter-widgets/base",
            "_view_module_version": "1.2.0",
            "_view_name": "LayoutView",
            "align_content": null,
            "align_items": null,
            "align_self": null,
            "border": null,
            "bottom": null,
            "display": null,
            "flex": null,
            "flex_flow": null,
            "grid_area": null,
            "grid_auto_columns": null,
            "grid_auto_flow": null,
            "grid_auto_rows": null,
            "grid_column": null,
            "grid_gap": null,
            "grid_row": null,
            "grid_template_areas": null,
            "grid_template_columns": null,
            "grid_template_rows": null,
            "height": null,
            "justify_content": null,
            "justify_items": null,
            "left": null,
            "margin": null,
            "max_height": null,
            "max_width": null,
            "min_height": null,
            "min_width": null,
            "object_fit": null,
            "object_position": null,
            "order": null,
            "overflow": null,
            "overflow_x": null,
            "overflow_y": null,
            "padding": null,
            "right": null,
            "top": null,
            "visibility": null,
            "width": null
          }
        },
        "dd3c3a36217248c7810fa8a99cb8e6c4": {
          "model_module": "@jupyter-widgets/controls",
          "model_name": "DescriptionStyleModel",
          "model_module_version": "1.5.0",
          "state": {
            "_model_module": "@jupyter-widgets/controls",
            "_model_module_version": "1.5.0",
            "_model_name": "DescriptionStyleModel",
            "_view_count": null,
            "_view_module": "@jupyter-widgets/base",
            "_view_module_version": "1.2.0",
            "_view_name": "StyleView",
            "description_width": ""
          }
        },
        "49155b7acf384f9ebf3007f96613705e": {
          "model_module": "@jupyter-widgets/base",
          "model_name": "LayoutModel",
          "model_module_version": "1.2.0",
          "state": {
            "_model_module": "@jupyter-widgets/base",
            "_model_module_version": "1.2.0",
            "_model_name": "LayoutModel",
            "_view_count": null,
            "_view_module": "@jupyter-widgets/base",
            "_view_module_version": "1.2.0",
            "_view_name": "LayoutView",
            "align_content": null,
            "align_items": null,
            "align_self": null,
            "border": null,
            "bottom": null,
            "display": null,
            "flex": null,
            "flex_flow": null,
            "grid_area": null,
            "grid_auto_columns": null,
            "grid_auto_flow": null,
            "grid_auto_rows": null,
            "grid_column": null,
            "grid_gap": null,
            "grid_row": null,
            "grid_template_areas": null,
            "grid_template_columns": null,
            "grid_template_rows": null,
            "height": null,
            "justify_content": null,
            "justify_items": null,
            "left": null,
            "margin": null,
            "max_height": null,
            "max_width": null,
            "min_height": null,
            "min_width": null,
            "object_fit": null,
            "object_position": null,
            "order": null,
            "overflow": null,
            "overflow_x": null,
            "overflow_y": null,
            "padding": null,
            "right": null,
            "top": null,
            "visibility": null,
            "width": null
          }
        },
        "2b116ab0188448ada9262d194178d818": {
          "model_module": "@jupyter-widgets/controls",
          "model_name": "ProgressStyleModel",
          "model_module_version": "1.5.0",
          "state": {
            "_model_module": "@jupyter-widgets/controls",
            "_model_module_version": "1.5.0",
            "_model_name": "ProgressStyleModel",
            "_view_count": null,
            "_view_module": "@jupyter-widgets/base",
            "_view_module_version": "1.2.0",
            "_view_name": "StyleView",
            "bar_color": null,
            "description_width": ""
          }
        },
        "34ae938721664f28bfbf977664f28557": {
          "model_module": "@jupyter-widgets/base",
          "model_name": "LayoutModel",
          "model_module_version": "1.2.0",
          "state": {
            "_model_module": "@jupyter-widgets/base",
            "_model_module_version": "1.2.0",
            "_model_name": "LayoutModel",
            "_view_count": null,
            "_view_module": "@jupyter-widgets/base",
            "_view_module_version": "1.2.0",
            "_view_name": "LayoutView",
            "align_content": null,
            "align_items": null,
            "align_self": null,
            "border": null,
            "bottom": null,
            "display": null,
            "flex": null,
            "flex_flow": null,
            "grid_area": null,
            "grid_auto_columns": null,
            "grid_auto_flow": null,
            "grid_auto_rows": null,
            "grid_column": null,
            "grid_gap": null,
            "grid_row": null,
            "grid_template_areas": null,
            "grid_template_columns": null,
            "grid_template_rows": null,
            "height": null,
            "justify_content": null,
            "justify_items": null,
            "left": null,
            "margin": null,
            "max_height": null,
            "max_width": null,
            "min_height": null,
            "min_width": null,
            "object_fit": null,
            "object_position": null,
            "order": null,
            "overflow": null,
            "overflow_x": null,
            "overflow_y": null,
            "padding": null,
            "right": null,
            "top": null,
            "visibility": null,
            "width": null
          }
        },
        "a89488cfd3434dffaaf47b78a2501b36": {
          "model_module": "@jupyter-widgets/controls",
          "model_name": "DescriptionStyleModel",
          "model_module_version": "1.5.0",
          "state": {
            "_model_module": "@jupyter-widgets/controls",
            "_model_module_version": "1.5.0",
            "_model_name": "DescriptionStyleModel",
            "_view_count": null,
            "_view_module": "@jupyter-widgets/base",
            "_view_module_version": "1.2.0",
            "_view_name": "StyleView",
            "description_width": ""
          }
        }
      }
    }
  },
  "cells": [
    {
      "cell_type": "markdown",
      "metadata": {
        "id": "view-in-github",
        "colab_type": "text"
      },
      "source": [
        "<a href=\"https://colab.research.google.com/github/chaitanya-sharma/cnn_cifar10/blob/main/CIFAR10VGG.ipynb\" target=\"_parent\"><img src=\"https://colab.research.google.com/assets/colab-badge.svg\" alt=\"Open In Colab\"/></a>"
      ]
    },
    {
      "cell_type": "markdown",
      "source": [
        "### Importing the data"
      ],
      "metadata": {
        "id": "lnivcbGIao03"
      }
    },
    {
      "cell_type": "code",
      "source": [
        "import torch\n",
        "from torch import nn\n",
        "import matplotlib.pyplot as plt\n",
        "import numpy as np\n",
        "from torch.utils.data import Dataset\n",
        "from torchvision import datasets\n",
        "from torchvision.transforms import ToTensor\n",
        "torch.__version__"
      ],
      "metadata": {
        "colab": {
          "base_uri": "https://localhost:8080/",
          "height": 36
        },
        "id": "uNKrlg3Kar3W",
        "outputId": "f28edc07-6649-4782-b931-b98cc11bc239"
      },
      "execution_count": null,
      "outputs": [
        {
          "output_type": "execute_result",
          "data": {
            "text/plain": [
              "'2.0.0+cu118'"
            ],
            "application/vnd.google.colaboratory.intrinsic+json": {
              "type": "string"
            }
          },
          "metadata": {},
          "execution_count": 41
        }
      ]
    },
    {
      "cell_type": "code",
      "source": [
        "train_data=datasets.CIFAR10('data', True, ToTensor(), None, True)\n",
        "\n",
        "test_data=datasets.CIFAR10('data', False, ToTensor(), None, True)"
      ],
      "metadata": {
        "colab": {
          "base_uri": "https://localhost:8080/"
        },
        "id": "KKqypaVRbHQI",
        "outputId": "9e2f7dd8-28c5-4a5f-dfd8-7e4d4176908b"
      },
      "execution_count": null,
      "outputs": [
        {
          "output_type": "stream",
          "name": "stdout",
          "text": [
            "Files already downloaded and verified\n",
            "Files already downloaded and verified\n"
          ]
        }
      ]
    },
    {
      "cell_type": "code",
      "source": [
        "len(train_data), len(test_data)"
      ],
      "metadata": {
        "colab": {
          "base_uri": "https://localhost:8080/"
        },
        "id": "ayvpBTyPbijQ",
        "outputId": "c34a33ae-3317-4049-bb4b-061c3669c56a"
      },
      "execution_count": null,
      "outputs": [
        {
          "output_type": "execute_result",
          "data": {
            "text/plain": [
              "(50000, 10000)"
            ]
          },
          "metadata": {},
          "execution_count": 43
        }
      ]
    },
    {
      "cell_type": "code",
      "source": [
        "device=\"cuda\" if torch.cuda.is_available() else \"cpu\"\n",
        "device"
      ],
      "metadata": {
        "colab": {
          "base_uri": "https://localhost:8080/",
          "height": 36
        },
        "id": "WeRA0CifbnLv",
        "outputId": "d05ddf79-1cb7-4f10-f5f5-6f5031db36d6"
      },
      "execution_count": null,
      "outputs": [
        {
          "output_type": "execute_result",
          "data": {
            "text/plain": [
              "'cuda'"
            ],
            "application/vnd.google.colaboratory.intrinsic+json": {
              "type": "string"
            }
          },
          "metadata": {},
          "execution_count": 44
        }
      ]
    },
    {
      "cell_type": "code",
      "source": [
        "image, label=train_data[0]"
      ],
      "metadata": {
        "id": "50hLmvdnbssv"
      },
      "execution_count": null,
      "outputs": []
    },
    {
      "cell_type": "code",
      "source": [
        "plt.imshow(image.permute(1,2,0))"
      ],
      "metadata": {
        "colab": {
          "base_uri": "https://localhost:8080/",
          "height": 448
        },
        "id": "YUvf9fTXcjPy",
        "outputId": "8d069bd2-e436-40ab-decb-89fcf2b55393"
      },
      "execution_count": null,
      "outputs": [
        {
          "output_type": "execute_result",
          "data": {
            "text/plain": [
              "<matplotlib.image.AxesImage at 0x7f0803b4ffa0>"
            ]
          },
          "metadata": {},
          "execution_count": 46
        },
        {
          "output_type": "display_data",
          "data": {
            "text/plain": [
              "<Figure size 640x480 with 1 Axes>"
            ],
            "image/png": "[encoded data removed]"
          },
          "metadata": {}
        }
      ]
    },
    {
      "cell_type": "code",
      "source": [
        "torch.manual_seed(42)\n",
        "\n",
        "figure=plt.figure(figsize=(8,8))\n",
        "cols, rows=4, 4\n",
        "\n",
        "for i in range(1, rows*cols+1):\n",
        "  random_idx=np.random.randint(0, len(train_data))\n",
        "  image, label=train_data[random_idx]\n",
        "  figure.add_subplot(rows, cols, i)\n",
        "  plt.imshow(image.permute(1,2,0), cmap=\"gray\")\n",
        "  plt.axis(False)\n",
        "  plt.title(label)"
      ],
      "metadata": {
        "colab": {
          "base_uri": "https://localhost:8080/",
          "height": 675
        },
        "id": "8y2ra7kMcmQ5",
        "outputId": "4841d31b-aca4-48e9-e03e-9dae0fbe9b04"
      },
      "execution_count": null,
      "outputs": [
        {
          "output_type": "display_data",
          "data": {
            "text/plain": [
              "<Figure size 800x800 with 16 Axes>"
            ],
            "image/png": "[encoded data removed]"
          },
          "metadata": {}
        }
      ]
    },
    {
      "cell_type": "code",
      "source": [
        "from torch.utils.data import DataLoader\n",
        "\n",
        "train_dataloader=DataLoader(train_data, batch_size=32, shuffle=True)\n",
        "\n",
        "test_dataloader=DataLoader(test_data, 32, True)"
      ],
      "metadata": {
        "id": "XKwBIed2eDJ9"
      },
      "execution_count": null,
      "outputs": []
    },
    {
      "cell_type": "code",
      "source": [
        "len(train_dataloader), len(test_dataloader)"
      ],
      "metadata": {
        "colab": {
          "base_uri": "https://localhost:8080/"
        },
        "id": "52EaQ4mse9_z",
        "outputId": "565c0b72-e56f-467f-eac5-70b23943037c"
      },
      "execution_count": null,
      "outputs": [
        {
          "output_type": "execute_result",
          "data": {
            "text/plain": [
              "(1563, 313)"
            ]
          },
          "metadata": {},
          "execution_count": 49
        }
      ]
    },
    {
      "cell_type": "code",
      "source": [
        "image.shape"
      ],
      "metadata": {
        "colab": {
          "base_uri": "https://localhost:8080/"
        },
        "id": "mnL_b7aafCUm",
        "outputId": "32e9c1d7-3263-4830-a04a-2a0b01eb90ab"
      },
      "execution_count": null,
      "outputs": [
        {
          "output_type": "execute_result",
          "data": {
            "text/plain": [
              "torch.Size([3, 32, 32])"
            ]
          },
          "metadata": {},
          "execution_count": 50
        }
      ]
    },
    {
      "cell_type": "code",
      "source": [
        "train_data.classes"
      ],
      "metadata": {
        "colab": {
          "base_uri": "https://localhost:8080/"
        },
        "id": "nJn2FhvugBb1",
        "outputId": "43f98eb1-e045-468c-de48-2311db9dca88"
      },
      "execution_count": null,
      "outputs": [
        {
          "output_type": "execute_result",
          "data": {
            "text/plain": [
              "['airplane',\n",
              " 'automobile',\n",
              " 'bird',\n",
              " 'cat',\n",
              " 'deer',\n",
              " 'dog',\n",
              " 'frog',\n",
              " 'horse',\n",
              " 'ship',\n",
              " 'truck']"
            ]
          },
          "metadata": {},
          "execution_count": 51
        }
      ]
    },
    {
      "cell_type": "markdown",
      "source": [
        "### Model 0: Linear"
      ],
      "metadata": {
        "id": "-qjR7ZK5gV7n"
      }
    },
    {
      "cell_type": "code",
      "source": [
        "class CIFAR10Model0(nn.Module):\n",
        "  def __init__(self, input_shape, output_shape, hidden_units):\n",
        "    super().__init__()\n",
        "    self.Linear_Stack=nn.Sequential(\n",
        "                                    nn.Flatten(),\n",
        "                                    nn.Linear(input_shape, hidden_units),\n",
        "                                    nn.Linear(hidden_units, hidden_units),\n",
        "                                    nn.Linear(hidden_units, output_shape))\n",
        "  def forward(self, x):\n",
        "    return self.Linear_Stack(x)"
      ],
      "metadata": {
        "id": "CzugamFvhCh4"
      },
      "execution_count": null,
      "outputs": []
    },
    {
      "cell_type": "code",
      "source": [
        "Model_0=CIFAR10Model0(3072, len(train_data.classes), 10)\n",
        "Model_0"
      ],
      "metadata": {
        "colab": {
          "base_uri": "https://localhost:8080/"
        },
        "id": "8FVi3MJxh-JW",
        "outputId": "3e7d7dea-ca66-4559-edf6-270916ee6812"
      },
      "execution_count": null,
      "outputs": [
        {
          "output_type": "execute_result",
          "data": {
            "text/plain": [
              "CIFAR10Model0(\n",
              "  (Linear_Stack): Sequential(\n",
              "    (0): Flatten(start_dim=1, end_dim=-1)\n",
              "    (1): Linear(in_features=3072, out_features=10, bias=True)\n",
              "    (2): Linear(in_features=10, out_features=10, bias=True)\n",
              "    (3): Linear(in_features=10, out_features=10, bias=True)\n",
              "  )\n",
              ")"
            ]
          },
          "metadata": {},
          "execution_count": 53
        }
      ]
    },
    {
      "cell_type": "code",
      "source": [
        "# Loss Function and Optimizer\n",
        "\n",
        "loss_fn=nn.CrossEntropyLoss()\n",
        "\n",
        "optimizer=torch.optim.SGD(lr=0.01,\n",
        "                          params=Model_0.parameters())"
      ],
      "metadata": {
        "id": "AxtsRXQ_lTVG"
      },
      "execution_count": null,
      "outputs": []
    },
    {
      "cell_type": "code",
      "source": [
        "def accuracy_fn(y_true, y_pred):\n",
        "  correct=torch.eq(y_true, y_pred).sum().item()\n",
        "  acc=correct/len(y_true)\n",
        "  return acc*100"
      ],
      "metadata": {
        "id": "Ni5RmHhal2IK"
      },
      "execution_count": null,
      "outputs": []
    },
    {
      "cell_type": "code",
      "source": [
        "from timeit import default_timer as timer\n",
        "def print_train_time(start, end, device: torch.device=device):\n",
        "  time=end-start\n",
        "  print(f\"The total time taken to train on {device} is {time}\")\n",
        "  return time"
      ],
      "metadata": {
        "id": "UWZ3h529mgqK"
      },
      "execution_count": null,
      "outputs": []
    },
    {
      "cell_type": "code",
      "source": [
        "from tqdm.auto import tqdm\n",
        "\n",
        "torch.manual_seed(42)\n",
        "start_time=timer()\n",
        "\n",
        "num_epochs=5\n",
        "\n",
        "for epoch in range(num_epochs):\n",
        "  print(f\"Epoch: {epoch}\\n-------\")\n",
        "  Model_0.train()\n",
        "  train_loss, train_acc= 0, 0\n",
        "  for batch, (X,y) in enumerate(train_dataloader):\n",
        "    preds=Model_0(X)\n",
        "\n",
        "    loss=loss_fn(preds, y)\n",
        "    train_loss+=loss\n",
        "\n",
        "    optimizer.zero_grad()\n",
        "\n",
        "    loss.backward()\n",
        "\n",
        "    optimizer.step()\n",
        "\n",
        "  train_loss/=len(train_dataloader)\n",
        "\n",
        "  test_acc, test_loss = 0,0\n",
        "  with torch.inference_mode():\n",
        "    for X, y in (test_dataloader):\n",
        "      test_preds=Model_0(X)\n",
        "\n",
        "      loss=loss_fn(test_preds, y)\n",
        "      test_loss+=loss\n",
        "\n",
        "      acc=accuracy_fn(y, test_preds.argmax(dim=1))\n",
        "      test_acc+=acc\n",
        "\n",
        "    test_acc/=len(test_dataloader)\n",
        "    test_loss/=len(test_dataloader)\n",
        "\n",
        "\n",
        "  print(f\"\\nTrain loss: {train_loss:.5f} | Test loss: {test_loss:.5f}, Test acc: {test_acc:.2f}%\\n\")\n",
        "\n",
        "end_time=timer()\n",
        "\n",
        "print_train_time(start_time, end_time, \"cpu\")"
      ],
      "metadata": {
        "colab": {
          "base_uri": "https://localhost:8080/"
        },
        "id": "lg2ZdPyck9oq",
        "outputId": "a28cb7ef-55ac-4a97-9554-a565963a3fba"
      },
      "execution_count": null,
      "outputs": [
        {
          "output_type": "stream",
          "name": "stdout",
          "text": [
            "Epoch: 0\n",
            "-------\n",
            "\n",
            "Train loss: 2.00971 | Test loss: 1.91750, Test acc: 30.68%\n",
            "\n",
            "Epoch: 1\n",
            "-------\n",
            "\n",
            "Train loss: 1.85425 | Test loss: 1.85163, Test acc: 34.16%\n",
            "\n",
            "Epoch: 2\n",
            "-------\n",
            "\n",
            "Train loss: 1.81400 | Test loss: 1.81621, Test acc: 35.80%\n",
            "\n",
            "Epoch: 3\n",
            "-------\n",
            "\n",
            "Train loss: 1.79051 | Test loss: 1.88137, Test acc: 33.63%\n",
            "\n",
            "Epoch: 4\n",
            "-------\n",
            "\n",
            "Train loss: 1.77342 | Test loss: 1.78967, Test acc: 36.75%\n",
            "\n",
            "The total time taken to train on cpu is 53.73690484599956\n"
          ]
        },
        {
          "output_type": "execute_result",
          "data": {
            "text/plain": [
              "53.73690484599956"
            ]
          },
          "metadata": {},
          "execution_count": 57
        }
      ]
    },
    {
      "cell_type": "markdown",
      "source": [
        "### Functionizing the training and testing step"
      ],
      "metadata": {
        "id": "E_XpZCTigSQl"
      }
    },
    {
      "cell_type": "code",
      "source": [
        "def train_step(model: torch.nn.Module,\n",
        "               dataloader: torch.utils.data.DataLoader,\n",
        "               loss_fn: torch.nn.Module,\n",
        "               optimizer: torch.optim.Optimizer,\n",
        "               accuracy_fn,\n",
        "               device: torch.device=device):\n",
        "  model.train()\n",
        "\n",
        "  train_loss, train_acc=0,0\n",
        "  for batch, (X, y) in enumerate(dataloader):\n",
        "\n",
        "    X, y=X.to(device), y.to(device)\n",
        "    preds=model(X)\n",
        "\n",
        "    loss=loss_fn(preds, y)\n",
        "    train_loss+=loss\n",
        "\n",
        "    acc=accuracy_fn(y, preds.argmax(dim=1))\n",
        "    train_acc+=acc\n",
        "\n",
        "    optimizer.zero_grad()\n",
        "\n",
        "    loss.backward()\n",
        "\n",
        "    optimizer.step()\n",
        "\n",
        "  train_loss/=len(dataloader)\n",
        "  train_acc/=len(dataloader)\n",
        "\n",
        "  print(f\"Train loss: {train_loss:.5f} | Train accuracy: {train_acc:.2f}%\")"
      ],
      "metadata": {
        "id": "5nNTGixZEh9e"
      },
      "execution_count": null,
      "outputs": []
    },
    {
      "cell_type": "code",
      "source": [
        "def test_step(model: torch.nn.Module,\n",
        "              dataloader: torch.utils.data.DataLoader,\n",
        "              loss_fn: torch.nn.Module,\n",
        "              accurcay_fn,\n",
        "              device: torch.device=device):\n",
        "\n",
        "  model.eval()\n",
        "  test_loss, test_acc=0,0\n",
        "\n",
        "  with torch.inference_mode():\n",
        "    for X, y in dataloader:\n",
        "      # X, y=X.to(device), y.to(device)\n",
        "      X, y=X.to(device), y.to(device)\n",
        "      test_preds=model(X)\n",
        "\n",
        "      loss=loss_fn(test_preds, y)\n",
        "      test_loss+=loss\n",
        "\n",
        "      acc=accuracy_fn(y, test_preds.argmax(dim=1))\n",
        "      test_acc+=acc\n",
        "\n",
        "    test_loss /= len(dataloader)\n",
        "    test_acc /= len(dataloader)\n",
        "    print(f\"Test loss: {test_loss:.5f} | Test accuracy: {test_acc:.2f}%\\n\")"
      ],
      "metadata": {
        "id": "lLLGvmMUGMCC"
      },
      "execution_count": null,
      "outputs": []
    },
    {
      "cell_type": "markdown",
      "source": [
        "### Model 1: Non Linear"
      ],
      "metadata": {
        "id": "B4syjtZWbKs4"
      }
    },
    {
      "cell_type": "code",
      "source": [
        "class CIFAR10ModelV1(nn.Module):\n",
        "  def __init__(self, input_shape, hidden_units, output_shape):\n",
        "    super().__init__()\n",
        "\n",
        "    self.layer_stack=nn.Sequential(\n",
        "        nn.Flatten(),\n",
        "        nn.Linear(input_shape, hidden_units),\n",
        "        nn.Linear(hidden_units, output_shape),\n",
        "        nn.ReLU()\n",
        "    )\n",
        "\n",
        "  def forward(self, x):\n",
        "    return self.layer_stack(x)"
      ],
      "metadata": {
        "id": "c0yGzSixEbPS"
      },
      "execution_count": null,
      "outputs": []
    },
    {
      "cell_type": "code",
      "source": [
        "model_1=CIFAR10ModelV1(3072, 10, len(train_data.classes)).to(device)\n",
        "model_1"
      ],
      "metadata": {
        "colab": {
          "base_uri": "https://localhost:8080/"
        },
        "id": "dyzn6xauIXIG",
        "outputId": "c3ed569a-5ce5-4d9c-e057-a700634d4a33"
      },
      "execution_count": null,
      "outputs": [
        {
          "output_type": "execute_result",
          "data": {
            "text/plain": [
              "CIFAR10ModelV1(\n",
              "  (layer_stack): Sequential(\n",
              "    (0): Flatten(start_dim=1, end_dim=-1)\n",
              "    (1): Linear(in_features=3072, out_features=10, bias=True)\n",
              "    (2): Linear(in_features=10, out_features=10, bias=True)\n",
              "    (3): ReLU()\n",
              "  )\n",
              ")"
            ]
          },
          "metadata": {},
          "execution_count": 62
        }
      ]
    },
    {
      "cell_type": "code",
      "source": [
        "loss_fn=nn.CrossEntropyLoss()\n",
        "\n",
        "optimizer=torch.optim.SGD(params=model_1.parameters(),\n",
        "                            lr=0.01)"
      ],
      "metadata": {
        "id": "Qm-YKcZ9JXbB"
      },
      "execution_count": null,
      "outputs": []
    },
    {
      "cell_type": "code",
      "source": [
        "num_epochs=3\n",
        "\n",
        "model_1_start=timer()\n",
        "\n",
        "for epoch in tqdm(range(num_epochs)):\n",
        "  train_step(model_1, train_dataloader, loss_fn, optimizer, accuracy_fn)\n",
        "\n",
        "  test_step(model_1, test_dataloader, loss_fn, accuracy_fn)\n",
        "\n",
        "model_1_end=timer()\n",
        "\n",
        "print_train_time(model_1_start, model_1_end)"
      ],
      "metadata": {
        "colab": {
          "base_uri": "https://localhost:8080/",
          "height": 248,
          "referenced_widgets": [
            "1d532c38ffd84e298f25ef8174b7893d",
            "be90f81b15c34b35806a3873dbc3c02e",
            "041b39dec08c4a418b76b5e9f945c12a",
            "6294b14f79224717b7fd1eb1229be803",
            "d89ceeb29a374e548ffedf56c52b2bfc",
            "349c89df88384ceaa24d91250859de2a",
            "01ade617fb804c2288e49e5b9732dcfa",
            "9ad5b69258d447ada6fb5dd1502ce2ab",
            "4b5b381d72ee41858c27ccc4388245a2",
            "09931210e5d74682964ba8bd2d3f8355",
            "11ae2e9e2b1e4fbc8fc0f34b7337b724"
          ]
        },
        "id": "cqFNzdYvIgfI",
        "outputId": "2dd14b46-68ad-46d8-8e5b-ad0d1dd42797"
      },
      "execution_count": null,
      "outputs": [
        {
          "output_type": "display_data",
          "data": {
            "text/plain": [
              "  0%|          | 0/3 [00:00<?, ?it/s]"
            ],
            "application/vnd.jupyter.widget-view+json": {
              "version_major": 2,
              "version_minor": 0,
              "model_id": "1d532c38ffd84e298f25ef8174b7893d"
            }
          },
          "metadata": {}
        },
        {
          "output_type": "stream",
          "name": "stdout",
          "text": [
            "Train loss: 2.08561 | Train accuracy: 26.11%\n",
            "Test loss: 1.97448 | Test accuracy: 30.37%\n",
            "\n",
            "Train loss: 1.89534 | Train accuracy: 34.25%\n",
            "Test loss: 1.85157 | Test accuracy: 34.57%\n",
            "\n",
            "Train loss: 1.80357 | Train accuracy: 37.14%\n",
            "Test loss: 1.77195 | Test accuracy: 38.27%\n",
            "\n",
            "The total time taken to train on cuda is 34.09025104200009\n"
          ]
        },
        {
          "output_type": "execute_result",
          "data": {
            "text/plain": [
              "34.09025104200009"
            ]
          },
          "metadata": {},
          "execution_count": 64
        }
      ]
    },
    {
      "cell_type": "code",
      "source": [
        "def eval_model(model: torch.nn.Module,\n",
        "               dataloader: torch.utils.data.DataLoader,\n",
        "               loss_fn: torch.nn.Module,\n",
        "               accuracy_fn,\n",
        "               device: torch.device=device):\n",
        "  loss, acc= 0,0\n",
        "\n",
        "  with torch.inference_mode():\n",
        "    for X, y in dataloader:\n",
        "      X, y=X.to(device), y.to(device)\n",
        "      preds=model(X)\n",
        "\n",
        "      loss+=loss_fn(preds, y)\n",
        "      acc+=accuracy_fn(y, preds.argmax(dim=1))\n",
        "\n",
        "    loss/=len(dataloader)\n",
        "    acc/=len(dataloader)\n",
        "\n",
        "  return {\"model_name\": model.__class__.__name__,\n",
        "            \"model_loss\": loss.item(),\n",
        "            \"model_acc\": acc}"
      ],
      "metadata": {
        "id": "QQAS5K9kJ__v"
      },
      "execution_count": null,
      "outputs": []
    },
    {
      "cell_type": "code",
      "source": [
        "model0_results=eval_model(Model_0, test_dataloader, loss_fn, accuracy_fn,\"cpu\")\n",
        "model0_results"
      ],
      "metadata": {
        "colab": {
          "base_uri": "https://localhost:8080/"
        },
        "id": "Gjat21HPZ-Y3",
        "outputId": "a732004c-d67f-4fb8-802c-1a1c46d62620"
      },
      "execution_count": null,
      "outputs": [
        {
          "output_type": "execute_result",
          "data": {
            "text/plain": [
              "{'model_name': 'CIFAR10Model0',\n",
              " 'model_loss': 1.7891430854797363,\n",
              " 'model_acc': 36.781150159744406}"
            ]
          },
          "metadata": {},
          "execution_count": 66
        }
      ]
    },
    {
      "cell_type": "code",
      "source": [
        "model1_results=eval_model(model_1, test_dataloader, loss_fn, accuracy_fn)\n",
        "model1_results"
      ],
      "metadata": {
        "colab": {
          "base_uri": "https://localhost:8080/"
        },
        "id": "-kLUWM0oat7q",
        "outputId": "1cec615e-4efc-4112-f7c3-f59e724bbd51"
      },
      "execution_count": null,
      "outputs": [
        {
          "output_type": "execute_result",
          "data": {
            "text/plain": [
              "{'model_name': 'CIFAR10ModelV1',\n",
              " 'model_loss': 1.7720699310302734,\n",
              " 'model_acc': 38.25878594249201}"
            ]
          },
          "metadata": {},
          "execution_count": 67
        }
      ]
    },
    {
      "cell_type": "markdown",
      "source": [
        "## Model 2: CNN"
      ],
      "metadata": {
        "id": "uFe2k53aa_BS"
      }
    },
    {
      "cell_type": "code",
      "source": [
        "class CIFAR10ModelV2(nn.Module):\n",
        "  def __init__(self, input_shape, hidden_units, output_shape):\n",
        "    super().__init__()\n",
        "\n",
        "    self.block_1=nn.Sequential(\n",
        "        nn.Conv2d(input_shape, hidden_units, 3, 1, 1),\n",
        "        nn.ReLU(),\n",
        "        nn.Conv2d(hidden_units, hidden_units, 3, 1, 1),\n",
        "        nn.ReLU(),\n",
        "        nn.MaxPool2d(2, 2)\n",
        "    )\n",
        "\n",
        "    self.block_2=nn.Sequential(\n",
        "        nn.Conv2d(hidden_units, hidden_units, 3, 1, 1),\n",
        "        nn.ReLU(),\n",
        "        nn.Conv2d(hidden_units, hidden_units, 3, 1, 1),\n",
        "        nn.ReLU(),\n",
        "        nn.MaxPool2d(2, 2)\n",
        "    )\n",
        "\n",
        "    self.classifier=nn.Sequential(\n",
        "        nn.Flatten(),\n",
        "        nn.Linear(hidden_units*8*8, output_shape)\n",
        "    )\n",
        "\n",
        "  def forward(self, x):\n",
        "    x=self.block_1(x)\n",
        "    # print(x.shape)\n",
        "    x=self.block_2(x)\n",
        "    # print(x.shape)\n",
        "    x=self.classifier(x)\n",
        "    # print(x.shape)\n",
        "    return x"
      ],
      "metadata": {
        "id": "-ToNc49tbRol"
      },
      "execution_count": null,
      "outputs": []
    },
    {
      "cell_type": "code",
      "source": [
        "model_2=CIFAR10ModelV2(3, 64, 10).to(device)\n",
        "model_2"
      ],
      "metadata": {
        "colab": {
          "base_uri": "https://localhost:8080/"
        },
        "id": "w5WX_2uUc7XV",
        "outputId": "472112d2-78cd-4606-d949-f85ed8b4ef40"
      },
      "execution_count": null,
      "outputs": [
        {
          "output_type": "execute_result",
          "data": {
            "text/plain": [
              "CIFAR10ModelV2(\n",
              "  (block_1): Sequential(\n",
              "    (0): Conv2d(3, 64, kernel_size=(3, 3), stride=(1, 1), padding=(1, 1))\n",
              "    (1): ReLU()\n",
              "    (2): Conv2d(64, 64, kernel_size=(3, 3), stride=(1, 1), padding=(1, 1))\n",
              "    (3): ReLU()\n",
              "    (4): MaxPool2d(kernel_size=2, stride=2, padding=0, dilation=1, ceil_mode=False)\n",
              "  )\n",
              "  (block_2): Sequential(\n",
              "    (0): Conv2d(64, 64, kernel_size=(3, 3), stride=(1, 1), padding=(1, 1))\n",
              "    (1): ReLU()\n",
              "    (2): Conv2d(64, 64, kernel_size=(3, 3), stride=(1, 1), padding=(1, 1))\n",
              "    (3): ReLU()\n",
              "    (4): MaxPool2d(kernel_size=2, stride=2, padding=0, dilation=1, ceil_mode=False)\n",
              "  )\n",
              "  (classifier): Sequential(\n",
              "    (0): Flatten(start_dim=1, end_dim=-1)\n",
              "    (1): Linear(in_features=4096, out_features=10, bias=True)\n",
              "  )\n",
              ")"
            ]
          },
          "metadata": {},
          "execution_count": 106
        }
      ]
    },
    {
      "cell_type": "code",
      "source": [
        "loss_fn=nn.CrossEntropyLoss()\n",
        "\n",
        "optimizer=torch.optim.SGD(lr=0.068, params=model_2.parameters())"
      ],
      "metadata": {
        "id": "E3JNiLT4dHwD"
      },
      "execution_count": null,
      "outputs": []
    },
    {
      "cell_type": "code",
      "source": [
        "torch.manual_seed(42)\n",
        "\n",
        "num_epochs=5\n",
        "\n",
        "model_2_start=timer()\n",
        "\n",
        "for epoch in tqdm(range(num_epochs)):\n",
        "  train_step(model_2, train_dataloader, loss_fn, optimizer, accuracy_fn)\n",
        "\n",
        "  test_step(model_2, test_dataloader, loss_fn, accuracy_fn, \"cuda\")\n",
        "\n",
        "model_2_end=timer()\n",
        "\n",
        "print_train_time(model_2_start, model_2_end)"
      ],
      "metadata": {
        "colab": {
          "base_uri": "https://localhost:8080/",
          "height": 357,
          "referenced_widgets": [
            "174a0e9ec7554c21a41db6aaf4a9eeb2",
            "99f58584979b4e7090b4bf5427a4f03c",
            "7f961feac33c4d95af458707d00f7339",
            "b83337920ed04157b0682f0837eb0759",
            "825b78382b9e4364b57cd5d771b2d073",
            "b0f0c721cb484801a89667335dd96fe5",
            "dd3c3a36217248c7810fa8a99cb8e6c4",
            "49155b7acf384f9ebf3007f96613705e",
            "2b116ab0188448ada9262d194178d818",
            "34ae938721664f28bfbf977664f28557",
            "a89488cfd3434dffaaf47b78a2501b36"
          ]
        },
        "id": "VzgF6wAdexX1",
        "outputId": "ab40da0b-6890-4f1a-ad86-fc0936a05f53"
      },
      "execution_count": null,
      "outputs": [
        {
          "output_type": "display_data",
          "data": {
            "text/plain": [
              "  0%|          | 0/5 [00:00<?, ?it/s]"
            ],
            "application/vnd.jupyter.widget-view+json": {
              "version_major": 2,
              "version_minor": 0,
              "model_id": "174a0e9ec7554c21a41db6aaf4a9eeb2"
            }
          },
          "metadata": {}
        },
        {
          "output_type": "stream",
          "name": "stdout",
          "text": [
            "Train loss: 0.62091 | Train accuracy: 78.35%\n",
            "Test loss: 0.94088 | Test accuracy: 69.18%\n",
            "\n",
            "Train loss: 0.56317 | Train accuracy: 80.30%\n",
            "Test loss: 0.92182 | Test accuracy: 69.73%\n",
            "\n",
            "Train loss: 0.51018 | Train accuracy: 82.33%\n",
            "Test loss: 0.89586 | Test accuracy: 71.62%\n",
            "\n",
            "Train loss: 0.47467 | Train accuracy: 83.42%\n",
            "Test loss: 0.87118 | Test accuracy: 72.56%\n",
            "\n",
            "Train loss: 0.43164 | Train accuracy: 84.89%\n",
            "Test loss: 0.92986 | Test accuracy: 71.44%\n",
            "\n",
            "The total time taken to train on cuda is 70.99125032499978\n"
          ]
        },
        {
          "output_type": "execute_result",
          "data": {
            "text/plain": [
              "70.99125032499978"
            ]
          },
          "metadata": {},
          "execution_count": 114
        }
      ]
    },
    {
      "cell_type": "code",
      "source": [
        "model_2_result=eval_model(model_2, test_dataloader, loss_fn, accuracy_fn)\n",
        "model_2_result"
      ],
      "metadata": {
        "colab": {
          "base_uri": "https://localhost:8080/"
        },
        "id": "2gUZkQUGfno4",
        "outputId": "7dbffd25-c679-4f3b-f87f-1d7446313938"
      },
      "execution_count": null,
      "outputs": [
        {
          "output_type": "execute_result",
          "data": {
            "text/plain": [
              "{'model_name': 'CIFAR10ModelV2',\n",
              " 'model_loss': 0.9296021461486816,\n",
              " 'model_acc': 71.46565495207668}"
            ]
          },
          "metadata": {},
          "execution_count": 115
        }
      ]
    },
    {
      "cell_type": "code",
      "source": [
        "model0_results"
      ],
      "metadata": {
        "colab": {
          "base_uri": "https://localhost:8080/"
        },
        "id": "kLYC892D5S1Q",
        "outputId": "4c974e00-8b16-4f99-8606-8de21f299c57"
      },
      "execution_count": null,
      "outputs": [
        {
          "output_type": "execute_result",
          "data": {
            "text/plain": [
              "{'model_name': 'CIFAR10Model0',\n",
              " 'model_loss': 1.7891430854797363,\n",
              " 'model_acc': 36.781150159744406}"
            ]
          },
          "metadata": {},
          "execution_count": 113
        }
      ]
    },
    {
      "cell_type": "code",
      "source": [
        "model1_results"
      ],
      "metadata": {
        "id": "vDDc7Oxv5Ye-",
        "colab": {
          "base_uri": "https://localhost:8080/"
        },
        "outputId": "5fdbff15-878e-4ed0-9c92-902a4d9e402f"
      },
      "execution_count": null,
      "outputs": [
        {
          "output_type": "execute_result",
          "data": {
            "text/plain": [
              "{'model_name': 'CIFAR10ModelV1',\n",
              " 'model_loss': 1.7720699310302734,\n",
              " 'model_acc': 38.25878594249201}"
            ]
          },
          "metadata": {},
          "execution_count": 74
        }
      ]
    },
    {
      "cell_type": "code",
      "source": [],
      "metadata": {
        "id": "WoK8JxV1ibT0"
      },
      "execution_count": null,
      "outputs": []
    }
  ]
}